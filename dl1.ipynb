{
 "cells": [
  {
   "attachments": {},
   "cell_type": "markdown",
   "metadata": {},
   "source": [
    "# ASSIGNMENT - 1"
   ]
  },
  {
   "attachments": {},
   "cell_type": "markdown",
   "metadata": {},
   "source": [
    "### Problem Statement\n",
    "\n",
    "Linear regression by using Deep Neural network: Implement Boston housing price prediction problem by Linear regression using Deep Neural network. Use Boston House price prediction dataset."
   ]
  },
  {
   "cell_type": "markdown",
   "metadata": {
    "papermill": {
     "duration": 0.034759,
     "end_time": "2020-10-07T20:55:54.783484",
     "exception": false,
     "start_time": "2020-10-07T20:55:54.748725",
     "status": "completed"
    },
    "tags": []
   },
   "source": [
    "<a id = 'data'></a>\n",
    "# About the Dataset"
   ]
  },
  {
   "attachments": {},
   "cell_type": "markdown",
   "metadata": {
    "papermill": {
     "duration": 0.034576,
     "end_time": "2020-10-07T20:55:54.853348",
     "exception": false,
     "start_time": "2020-10-07T20:55:54.818772",
     "status": "completed"
    },
    "tags": []
   },
   "source": [
    "The dataset used in this project comes from the UCI Machine Learning Repository. This data was collected in 1978 and each of the 506 entries represents aggregate information about 14 features of homes from various suburbs located in Boston.\n",
    "\n",
    "The features can be summarized as follows:\n",
    "* CRIM: This is the per capita crime rate by town\n",
    "* ZN: This is the proportion of residential land zoned for lots larger than 25,000 sq.ft.\n",
    "* INDUS: This is the proportion of non-retail business acres per town.\n",
    "* CHAS: This is the Charles River dummy variable (this is equal to 1 if tract bounds river; 0 otherwise)\n",
    "* NOX: This is the nitric oxides concentration (parts per 10 million)\n",
    "* RM: This is the average number of rooms per dwelling\n",
    "* AGE: This is the proportion of owner-occupied units built prior to 1940\n",
    "* DIS: This is the weighted distances to five Boston employment centers\n",
    "* RAD: This is the index of accessibility to radial highways\n",
    "* TAX: This is the full-value property-tax rate per 1000 bucks\n",
    "* PTRATIO: This is the pupil-teacher ratio by town\n",
    "* B: This is calculated as 1000(Bk — 0.63)², where Bk is the proportion of people of African American descent by town\n",
    "* LSTAT: This is the percentage lower status of the population\n",
    "* PRICE: This is the median value of owner-occupied homes in 1000s"
   ]
  },
  {
   "cell_type": "markdown",
   "metadata": {
    "papermill": {
     "duration": 0.033948,
     "end_time": "2020-10-07T20:55:54.921799",
     "exception": false,
     "start_time": "2020-10-07T20:55:54.887851",
     "status": "completed"
    },
    "tags": []
   },
   "source": [
    "<a id = 'library'></a>\n",
    "# Importing libraries and the dataset\n",
    "Unlike the conventional way, I import the library when it is needed. It will actually help you to understand where the application of the class and it's function is used"
   ]
  },
  {
   "cell_type": "code",
   "execution_count": null,
   "metadata": {
    "_cell_guid": "b1076dfc-b9ad-4769-8c92-a6c4dae69d19",
    "_uuid": "8f2839f25d086af736a60e9eeb907d3b93b6e0e5",
    "execution": {
     "iopub.execute_input": "2020-10-07T20:55:54.996776Z",
     "iopub.status.busy": "2020-10-07T20:55:54.995700Z",
     "iopub.status.idle": "2020-10-07T20:55:54.999523Z",
     "shell.execute_reply": "2020-10-07T20:55:54.998860Z"
    },
    "papermill": {
     "duration": 0.043524,
     "end_time": "2020-10-07T20:55:54.999653",
     "exception": false,
     "start_time": "2020-10-07T20:55:54.956129",
     "status": "completed"
    },
    "tags": []
   },
   "outputs": [],
   "source": [
    "import numpy as np # linear algebra\n",
    "import pandas as pd # data processing, CSV file I/O (e.g. pd.read_csv)\n",
    "\n",
    "#Lets load the dataset and sample some\n",
    "column_names = ['CRIM', 'ZN', 'INDUS', 'CHAS', 'NOX', 'RM', 'AGE', 'DIS', 'RAD', 'TAX', 'PTRATIO', 'B', 'LSTAT', 'PRICE']\n",
    "df = pd.read_csv('housing.csv', header=None, delimiter=r\"\\s+\", names=column_names)\n"
   ]
  },
  {
   "cell_type": "code",
   "execution_count": null,
   "metadata": {},
   "outputs": [],
   "source": [
    "df.head(5)"
   ]
  },
  {
   "cell_type": "code",
   "execution_count": null,
   "metadata": {
    "execution": {
     "iopub.execute_input": "2020-10-07T20:55:55.075743Z",
     "iopub.status.busy": "2020-10-07T20:55:55.074948Z",
     "iopub.status.idle": "2020-10-07T20:55:56.076895Z",
     "shell.execute_reply": "2020-10-07T20:55:56.076061Z"
    },
    "papermill": {
     "duration": 1.041634,
     "end_time": "2020-10-07T20:55:56.077031",
     "exception": false,
     "start_time": "2020-10-07T20:55:55.035397",
     "status": "completed"
    },
    "tags": []
   },
   "outputs": [],
   "source": [
    "# Dimension of the dataset\n",
    "print(np.shape(df))"
   ]
  },
  {
   "cell_type": "code",
   "execution_count": null,
   "metadata": {
    "execution": {
     "iopub.execute_input": "2020-10-07T20:55:56.153905Z",
     "iopub.status.busy": "2020-10-07T20:55:56.153131Z",
     "iopub.status.idle": "2020-10-07T20:55:56.156586Z",
     "shell.execute_reply": "2020-10-07T20:55:56.155999Z"
    },
    "papermill": {
     "duration": 0.045059,
     "end_time": "2020-10-07T20:55:56.156714",
     "exception": false,
     "start_time": "2020-10-07T20:55:56.111655",
     "status": "completed"
    },
    "tags": []
   },
   "outputs": [],
   "source": [
    "# Let's summarize the data to see the distribution of data\n",
    "print(df.describe())"
   ]
  },
  {
   "cell_type": "code",
   "execution_count": null,
   "metadata": {
    "execution": {
     "iopub.execute_input": "2020-10-07T20:55:56.320312Z",
     "iopub.status.busy": "2020-10-07T20:55:56.319522Z",
     "iopub.status.idle": "2020-10-07T20:55:56.335439Z",
     "shell.execute_reply": "2020-10-07T20:55:56.336038Z"
    },
    "papermill": {
     "duration": 0.071719,
     "end_time": "2020-10-07T20:55:56.336192",
     "exception": false,
     "start_time": "2020-10-07T20:55:56.264473",
     "status": "completed"
    },
    "tags": []
   },
   "outputs": [],
   "source": [
    "import seaborn as sns\n",
    "import matplotlib.pyplot as plt\n",
    "from scipy import stats\n",
    "\n",
    "fig, axs = plt.subplots(ncols=7, nrows=2, figsize=(20, 10))\n",
    "index = 0\n",
    "axs = axs.flatten()\n",
    "for k,v in df.items():\n",
    "    sns.boxplot(y=k, data=df, ax=axs[index])\n",
    "    index += 1\n",
    "plt.tight_layout(pad=0.4, w_pad=0.5, h_pad=5.0)"
   ]
  },
  {
   "cell_type": "code",
   "execution_count": null,
   "metadata": {
    "execution": {
     "iopub.execute_input": "2020-10-07T20:55:56.414589Z",
     "iopub.status.busy": "2020-10-07T20:55:56.413718Z",
     "iopub.status.idle": "2020-10-07T20:55:56.416948Z",
     "shell.execute_reply": "2020-10-07T20:55:56.416281Z"
    },
    "papermill": {
     "duration": 0.044642,
     "end_time": "2020-10-07T20:55:56.417100",
     "exception": false,
     "start_time": "2020-10-07T20:55:56.372458",
     "status": "completed"
    },
    "tags": []
   },
   "outputs": [],
   "source": [
    "    for k, v in df.items():\n",
    "        q1 = v.quantile(0.25)\n",
    "        q3 = v.quantile(0.75)\n",
    "        irq = q3 - q1\n",
    "        v_col = v[(v <= q1 - 1.5 * irq) | (v >= q3 + 1.5 * irq)]\n",
    "        perc = np.shape(v_col)[0] * 100.0 / np.shape(df)[0]\n",
    "        print(\"Column %s outliers = %.2f%%\" % (k, perc))"
   ]
  },
  {
   "cell_type": "code",
   "execution_count": null,
   "metadata": {
    "execution": {
     "iopub.execute_input": "2020-10-07T20:55:56.500235Z",
     "iopub.status.busy": "2020-10-07T20:55:56.499280Z",
     "iopub.status.idle": "2020-10-07T20:55:56.501806Z",
     "shell.execute_reply": "2020-10-07T20:55:56.502396Z"
    },
    "papermill": {
     "duration": 0.048845,
     "end_time": "2020-10-07T20:55:56.502563",
     "exception": false,
     "start_time": "2020-10-07T20:55:56.453718",
     "status": "completed"
    },
    "tags": []
   },
   "outputs": [],
   "source": [
    "df = df[~(df['PRICE'] >= 35.0)]\n",
    "print(np.shape(df))"
   ]
  },
  {
   "cell_type": "code",
   "execution_count": null,
   "metadata": {
    "execution": {
     "iopub.execute_input": "2020-10-07T20:55:56.590835Z",
     "iopub.status.busy": "2020-10-07T20:55:56.586563Z",
     "iopub.status.idle": "2020-10-07T20:55:56.607051Z",
     "shell.execute_reply": "2020-10-07T20:55:56.606239Z"
    },
    "papermill": {
     "duration": 0.068592,
     "end_time": "2020-10-07T20:55:56.607185",
     "exception": false,
     "start_time": "2020-10-07T20:55:56.538593",
     "status": "completed"
    },
    "tags": []
   },
   "outputs": [],
   "source": [
    "#Looking at the data with names and target variable\n",
    "df.head()"
   ]
  },
  {
   "cell_type": "code",
   "execution_count": null,
   "metadata": {
    "execution": {
     "iopub.execute_input": "2020-10-07T20:55:56.688161Z",
     "iopub.status.busy": "2020-10-07T20:55:56.686923Z",
     "iopub.status.idle": "2020-10-07T20:55:56.692129Z",
     "shell.execute_reply": "2020-10-07T20:55:56.691293Z"
    },
    "papermill": {
     "duration": 0.048073,
     "end_time": "2020-10-07T20:55:56.692272",
     "exception": false,
     "start_time": "2020-10-07T20:55:56.644199",
     "status": "completed"
    },
    "tags": []
   },
   "outputs": [],
   "source": [
    "#Shape of the data\n",
    "print(df.shape)"
   ]
  },
  {
   "cell_type": "code",
   "execution_count": null,
   "metadata": {
    "execution": {
     "iopub.execute_input": "2020-10-07T20:55:56.778245Z",
     "iopub.status.busy": "2020-10-07T20:55:56.775133Z",
     "iopub.status.idle": "2020-10-07T20:55:56.783287Z",
     "shell.execute_reply": "2020-10-07T20:55:56.782651Z"
    },
    "papermill": {
     "duration": 0.051644,
     "end_time": "2020-10-07T20:55:56.783452",
     "exception": false,
     "start_time": "2020-10-07T20:55:56.731808",
     "status": "completed"
    },
    "tags": []
   },
   "outputs": [],
   "source": [
    "#Checking the null values in the dataset\n",
    "df.isnull().sum()"
   ]
  },
  {
   "cell_type": "markdown",
   "metadata": {
    "papermill": {
     "duration": 0.038629,
     "end_time": "2020-10-07T20:55:56.861275",
     "exception": false,
     "start_time": "2020-10-07T20:55:56.822646",
     "status": "completed"
    },
    "tags": []
   },
   "source": [
    "No null values in the dataset, no missing value treatement needed"
   ]
  },
  {
   "cell_type": "code",
   "execution_count": null,
   "metadata": {
    "execution": {
     "iopub.execute_input": "2020-10-07T20:55:56.953447Z",
     "iopub.status.busy": "2020-10-07T20:55:56.952628Z",
     "iopub.status.idle": "2020-10-07T20:55:57.021634Z",
     "shell.execute_reply": "2020-10-07T20:55:57.020973Z"
    },
    "papermill": {
     "duration": 0.121217,
     "end_time": "2020-10-07T20:55:57.021775",
     "exception": false,
     "start_time": "2020-10-07T20:55:56.900558",
     "status": "completed"
    },
    "tags": []
   },
   "outputs": [],
   "source": [
    "#Checking the statistics of the data\n",
    "df.describe()"
   ]
  },
  {
   "cell_type": "markdown",
   "metadata": {
    "papermill": {
     "duration": 0.038841,
     "end_time": "2020-10-07T20:55:57.100719",
     "exception": false,
     "start_time": "2020-10-07T20:55:57.061878",
     "status": "completed"
    },
    "tags": []
   },
   "source": [
    "This is sometimes very useful, for example if you look at the CRIM the max is 88.97 and 75% of the value is below 3.677083 and mean is 3.613524 so it means the max values is actually an outlier or there are outliers present in the column"
   ]
  },
  {
   "cell_type": "code",
   "execution_count": null,
   "metadata": {
    "execution": {
     "iopub.execute_input": "2020-10-07T20:55:57.195790Z",
     "iopub.status.busy": "2020-10-07T20:55:57.194932Z",
     "iopub.status.idle": "2020-10-07T20:55:57.199253Z",
     "shell.execute_reply": "2020-10-07T20:55:57.198271Z"
    },
    "papermill": {
     "duration": 0.059044,
     "end_time": "2020-10-07T20:55:57.199444",
     "exception": false,
     "start_time": "2020-10-07T20:55:57.140400",
     "status": "completed"
    },
    "tags": []
   },
   "outputs": [],
   "source": [
    "df.info()"
   ]
  },
  {
   "cell_type": "markdown",
   "metadata": {
    "papermill": {
     "duration": 0.039786,
     "end_time": "2020-10-07T20:55:57.281403",
     "exception": false,
     "start_time": "2020-10-07T20:55:57.241617",
     "status": "completed"
    },
    "tags": []
   },
   "source": [
    "<a id = 'visual'></a>\n",
    "# Visualisation"
   ]
  },
  {
   "cell_type": "code",
   "execution_count": null,
   "metadata": {
    "execution": {
     "iopub.execute_input": "2020-10-07T20:55:57.367573Z",
     "iopub.status.busy": "2020-10-07T20:55:57.366737Z",
     "iopub.status.idle": "2020-10-07T20:55:57.863164Z",
     "shell.execute_reply": "2020-10-07T20:55:57.864194Z"
    },
    "papermill": {
     "duration": 0.543321,
     "end_time": "2020-10-07T20:55:57.864519",
     "exception": false,
     "start_time": "2020-10-07T20:55:57.321198",
     "status": "completed"
    },
    "tags": []
   },
   "outputs": [],
   "source": [
    "#checking the distribution of the target variable\n",
    "import seaborn as sns\n",
    "sns.histplot(df.PRICE , kde = True)"
   ]
  },
  {
   "cell_type": "markdown",
   "metadata": {
    "papermill": {
     "duration": 0.04572,
     "end_time": "2020-10-07T20:55:57.964996",
     "exception": false,
     "start_time": "2020-10-07T20:55:57.919276",
     "status": "completed"
    },
    "tags": []
   },
   "source": [
    "The distribution seems normal, has not be the data normal we would have perform log transformation or took to square root of the data to make the data normal. Normal distribution is need for the machine learning for better predictiblity of the model"
   ]
  },
  {
   "cell_type": "code",
   "execution_count": null,
   "metadata": {
    "execution": {
     "iopub.execute_input": "2020-10-07T20:55:58.080129Z",
     "iopub.status.busy": "2020-10-07T20:55:58.078725Z",
     "iopub.status.idle": "2020-10-07T20:55:58.226472Z",
     "shell.execute_reply": "2020-10-07T20:55:58.224803Z"
    },
    "papermill": {
     "duration": 0.21182,
     "end_time": "2020-10-07T20:55:58.226727",
     "exception": false,
     "start_time": "2020-10-07T20:55:58.014907",
     "status": "completed"
    },
    "tags": []
   },
   "outputs": [],
   "source": [
    "#Distribution using box plot\n",
    "sns.boxplot(df.PRICE)"
   ]
  },
  {
   "cell_type": "markdown",
   "metadata": {
    "papermill": {
     "duration": 0.048673,
     "end_time": "2020-10-07T20:55:58.330112",
     "exception": false,
     "start_time": "2020-10-07T20:55:58.281439",
     "status": "completed"
    },
    "tags": []
   },
   "source": [
    "<a id = 'corr'></a>\n",
    "### Checking the correlation of the independent feature with the dependent feature\n",
    "\n",
    "Correlation is a statistical technique that can show whether and how strongly pairs of variables are related.An intelligent correlation analysis can lead to a greater understanding of your data"
   ]
  },
  {
   "cell_type": "code",
   "execution_count": null,
   "metadata": {
    "execution": {
     "iopub.execute_input": "2020-10-07T20:55:58.431699Z",
     "iopub.status.busy": "2020-10-07T20:55:58.430428Z",
     "iopub.status.idle": "2020-10-07T20:55:58.435634Z",
     "shell.execute_reply": "2020-10-07T20:55:58.434824Z"
    },
    "papermill": {
     "duration": 0.061756,
     "end_time": "2020-10-07T20:55:58.435768",
     "exception": false,
     "start_time": "2020-10-07T20:55:58.374012",
     "status": "completed"
    },
    "tags": []
   },
   "outputs": [],
   "source": [
    "#checking Correlation of the data \n",
    "correlation = df.corr()\n",
    "correlation.loc['PRICE']"
   ]
  },
  {
   "cell_type": "code",
   "execution_count": null,
   "metadata": {
    "execution": {
     "iopub.execute_input": "2020-10-07T20:55:58.529605Z",
     "iopub.status.busy": "2020-10-07T20:55:58.528638Z",
     "iopub.status.idle": "2020-10-07T20:55:59.710877Z",
     "shell.execute_reply": "2020-10-07T20:55:59.711521Z"
    },
    "papermill": {
     "duration": 1.232381,
     "end_time": "2020-10-07T20:55:59.711688",
     "exception": false,
     "start_time": "2020-10-07T20:55:58.479307",
     "status": "completed"
    },
    "tags": []
   },
   "outputs": [],
   "source": [
    "# plotting the heatmap\n",
    "import matplotlib.pyplot as plt\n",
    "fig,axes = plt.subplots(figsize=(15,12))\n",
    "sns.heatmap(correlation,square = True,annot = True)"
   ]
  },
  {
   "cell_type": "markdown",
   "metadata": {
    "papermill": {
     "duration": 0.063671,
     "end_time": "2020-10-07T20:55:59.843186",
     "exception": false,
     "start_time": "2020-10-07T20:55:59.779515",
     "status": "completed"
    },
    "tags": []
   },
   "source": [
    "By looking at the correlation plot LSAT is negatively correlated with -0.75 and RM is positively correlated to the price and PTRATIO is correlated negatively with -0.51"
   ]
  },
  {
   "cell_type": "code",
   "execution_count": null,
   "metadata": {
    "execution": {
     "iopub.execute_input": "2020-10-07T20:55:59.973935Z",
     "iopub.status.busy": "2020-10-07T20:55:59.973048Z",
     "iopub.status.idle": "2020-10-07T20:56:00.537078Z",
     "shell.execute_reply": "2020-10-07T20:56:00.536396Z"
    },
    "papermill": {
     "duration": 0.62852,
     "end_time": "2020-10-07T20:56:00.537213",
     "exception": false,
     "start_time": "2020-10-07T20:55:59.908693",
     "status": "completed"
    },
    "tags": []
   },
   "outputs": [],
   "source": [
    "# Checking the scatter plot with the most correlated features\n",
    "plt.figure(figsize = (20,5))\n",
    "features = ['LSTAT','RM','PTRATIO']\n",
    "for i, col in enumerate(features):\n",
    "    plt.subplot(1, len(features) , i+1)\n",
    "    x = df[col]\n",
    "    y = df.PRICE\n",
    "    plt.scatter(x, y, marker='o')\n",
    "    plt.title(\"Variation in House prices\")\n",
    "    plt.xlabel(col)\n",
    "    plt.ylabel('\"House prices in $1000\"')"
   ]
  },
  {
   "cell_type": "markdown",
   "metadata": {
    "papermill": {
     "duration": 0.049163,
     "end_time": "2020-10-07T20:56:00.640630",
     "exception": false,
     "start_time": "2020-10-07T20:56:00.591467",
     "status": "completed"
    },
    "tags": []
   },
   "source": [
    "<a id = 'split'></a>\n",
    "### Splitting the dependent feature and independent feature "
   ]
  },
  {
   "cell_type": "code",
   "execution_count": null,
   "metadata": {
    "execution": {
     "iopub.execute_input": "2020-10-07T20:56:00.746689Z",
     "iopub.status.busy": "2020-10-07T20:56:00.745862Z",
     "iopub.status.idle": "2020-10-07T20:56:00.749761Z",
     "shell.execute_reply": "2020-10-07T20:56:00.748926Z"
    },
    "papermill": {
     "duration": 0.060237,
     "end_time": "2020-10-07T20:56:00.749904",
     "exception": false,
     "start_time": "2020-10-07T20:56:00.689667",
     "status": "completed"
    },
    "tags": []
   },
   "outputs": [],
   "source": [
    "#X = data[['LSTAT','RM','PTRATIO']]\n",
    "X = df.iloc[:,:-1]\n",
    "y= df.PRICE"
   ]
  },
  {
   "cell_type": "markdown",
   "metadata": {
    "papermill": {
     "duration": 0.049696,
     "end_time": "2020-10-07T20:56:00.848870",
     "exception": false,
     "start_time": "2020-10-07T20:56:00.799174",
     "status": "completed"
    },
    "tags": []
   },
   "source": [
    "<a id = 'valid'></a>\n",
    "### Splitting the data for Model Validation "
   ]
  },
  {
   "cell_type": "code",
   "execution_count": null,
   "metadata": {
    "execution": {
     "iopub.execute_input": "2020-10-07T20:56:00.955422Z",
     "iopub.status.busy": "2020-10-07T20:56:00.954564Z",
     "iopub.status.idle": "2020-10-07T20:56:01.027363Z",
     "shell.execute_reply": "2020-10-07T20:56:01.026674Z"
    },
    "papermill": {
     "duration": 0.127892,
     "end_time": "2020-10-07T20:56:01.027528",
     "exception": false,
     "start_time": "2020-10-07T20:56:00.899636",
     "status": "completed"
    },
    "tags": []
   },
   "outputs": [],
   "source": [
    "# Splitting the data into train and test for building the model\n",
    "from sklearn.model_selection import train_test_split\n",
    "X_train, X_test, y_train, y_test = train_test_split(X,y, test_size = 0.2, random_state = 4)"
   ]
  },
  {
   "cell_type": "markdown",
   "metadata": {
    "papermill": {
     "duration": 0.04873,
     "end_time": "2020-10-07T20:56:01.127287",
     "exception": false,
     "start_time": "2020-10-07T20:56:01.078557",
     "status": "completed"
    },
    "tags": []
   },
   "source": [
    "<a id = 'build'></a>\n",
    "### Building the Model "
   ]
  },
  {
   "cell_type": "code",
   "execution_count": null,
   "metadata": {
    "execution": {
     "iopub.execute_input": "2020-10-07T20:56:01.232610Z",
     "iopub.status.busy": "2020-10-07T20:56:01.231721Z",
     "iopub.status.idle": "2020-10-07T20:56:01.351412Z",
     "shell.execute_reply": "2020-10-07T20:56:01.350526Z"
    },
    "papermill": {
     "duration": 0.174952,
     "end_time": "2020-10-07T20:56:01.351555",
     "exception": false,
     "start_time": "2020-10-07T20:56:01.176603",
     "status": "completed"
    },
    "tags": []
   },
   "outputs": [],
   "source": [
    "#Linear Regression \n",
    "from sklearn.linear_model import LinearRegression\n",
    "regressor = LinearRegression()"
   ]
  },
  {
   "cell_type": "code",
   "execution_count": null,
   "metadata": {
    "execution": {
     "iopub.execute_input": "2020-10-07T20:56:01.531645Z",
     "iopub.status.busy": "2020-10-07T20:56:01.530133Z",
     "iopub.status.idle": "2020-10-07T20:56:01.539001Z",
     "shell.execute_reply": "2020-10-07T20:56:01.538076Z"
    },
    "papermill": {
     "duration": 0.134823,
     "end_time": "2020-10-07T20:56:01.539185",
     "exception": false,
     "start_time": "2020-10-07T20:56:01.404362",
     "status": "completed"
    },
    "tags": []
   },
   "outputs": [],
   "source": [
    "#Fitting the model\n",
    "regressor.fit(X_train,y_train)"
   ]
  },
  {
   "cell_type": "markdown",
   "metadata": {
    "papermill": {
     "duration": 0.058616,
     "end_time": "2020-10-07T20:56:01.652280",
     "exception": false,
     "start_time": "2020-10-07T20:56:01.593664",
     "status": "completed"
    },
    "tags": []
   },
   "source": [
    "<a id = 'evaluate'></a>\n",
    "### Model Evaluation"
   ]
  },
  {
   "cell_type": "code",
   "execution_count": null,
   "metadata": {
    "execution": {
     "iopub.execute_input": "2020-10-07T20:56:01.779402Z",
     "iopub.status.busy": "2020-10-07T20:56:01.778398Z",
     "iopub.status.idle": "2020-10-07T20:56:01.782567Z",
     "shell.execute_reply": "2020-10-07T20:56:01.781875Z"
    },
    "papermill": {
     "duration": 0.077452,
     "end_time": "2020-10-07T20:56:01.782725",
     "exception": false,
     "start_time": "2020-10-07T20:56:01.705273",
     "status": "completed"
    },
    "tags": []
   },
   "outputs": [],
   "source": [
    "#Prediction on the test dataset\n",
    "y_pred = regressor.predict(X_test)"
   ]
  },
  {
   "cell_type": "code",
   "execution_count": null,
   "metadata": {
    "execution": {
     "iopub.execute_input": "2020-10-07T20:56:01.907289Z",
     "iopub.status.busy": "2020-10-07T20:56:01.905853Z",
     "iopub.status.idle": "2020-10-07T20:56:01.911015Z",
     "shell.execute_reply": "2020-10-07T20:56:01.912063Z"
    },
    "papermill": {
     "duration": 0.071746,
     "end_time": "2020-10-07T20:56:01.912362",
     "exception": false,
     "start_time": "2020-10-07T20:56:01.840616",
     "status": "completed"
    },
    "tags": []
   },
   "outputs": [],
   "source": [
    "# Predicting RMSE the Test set results\n",
    "from sklearn.metrics import mean_squared_error\n",
    "rmse = (np.sqrt(mean_squared_error(y_test, y_pred)))\n",
    "print(rmse)"
   ]
  },
  {
   "cell_type": "code",
   "execution_count": null,
   "metadata": {
    "execution": {
     "iopub.execute_input": "2020-10-07T20:56:02.044764Z",
     "iopub.status.busy": "2020-10-07T20:56:02.043712Z",
     "iopub.status.idle": "2020-10-07T20:56:02.048680Z",
     "shell.execute_reply": "2020-10-07T20:56:02.050718Z"
    },
    "papermill": {
     "duration": 0.075393,
     "end_time": "2020-10-07T20:56:02.051676",
     "exception": false,
     "start_time": "2020-10-07T20:56:01.976283",
     "status": "completed"
    },
    "tags": []
   },
   "outputs": [],
   "source": [
    "from sklearn.metrics import r2_score\n",
    "r2 = r2_score(y_test, y_pred)\n",
    "print(r2)"
   ]
  },
  {
   "cell_type": "markdown",
   "metadata": {
    "papermill": {
     "duration": 0.052899,
     "end_time": "2020-10-07T20:56:02.160829",
     "exception": false,
     "start_time": "2020-10-07T20:56:02.107930",
     "status": "completed"
    },
    "tags": []
   },
   "source": [
    "<a id  = 'NN'></a>\n",
    "## Neural Networks"
   ]
  },
  {
   "cell_type": "code",
   "execution_count": null,
   "metadata": {
    "execution": {
     "iopub.execute_input": "2020-10-07T20:56:02.279947Z",
     "iopub.status.busy": "2020-10-07T20:56:02.279001Z",
     "iopub.status.idle": "2020-10-07T20:56:02.291535Z",
     "shell.execute_reply": "2020-10-07T20:56:02.290743Z"
    },
    "papermill": {
     "duration": 0.077294,
     "end_time": "2020-10-07T20:56:02.291688",
     "exception": false,
     "start_time": "2020-10-07T20:56:02.214394",
     "status": "completed"
    },
    "tags": []
   },
   "outputs": [],
   "source": [
    "#Scaling the dataset\n",
    "from sklearn.preprocessing import StandardScaler\n",
    "sc = StandardScaler()\n",
    "X_train = sc.fit_transform(X_train)\n",
    "X_test = sc.transform(X_test)"
   ]
  },
  {
   "cell_type": "markdown",
   "metadata": {
    "papermill": {
     "duration": 0.053021,
     "end_time": "2020-10-07T20:56:02.400133",
     "exception": false,
     "start_time": "2020-10-07T20:56:02.347112",
     "status": "completed"
    },
    "tags": []
   },
   "source": [
    "* We are using Keras for developing the neural network.\n",
    "* Models in Keras are defined as a sequence of layers\n",
    "* We create a Sequential model and add layers one at a time with activation function\n",
    "* Activation function decides, whether a neuron should be activated or not by calculating weighted sum and further adding bias with it. The purpose of the activation function is to introduce non-linearity into the output of a neuron.The activation we are using is relu\n",
    "* As this is a regression problem, the output layer has no activation function\n",
    "* Elements of neural network has input layer, hidden layer and output layer\n",
    "* input layer:- This layer accepts input features. It provides information from the outside world to the network, no computation is performed at this layer, nodes here just pass on the information(features) to the hidden layer.\n",
    "* Hidden layer:-  Nodes of this layer are not exposed to the outer world, they are the part of the abstraction provided by any neural network. Hidden layer performs all sort of computation on the features entered through the input layer and transfer the result to the output layer.\n",
    "* Output layer:- This layer bring up the information learned by the network to the outer world.\n",
    "* Model Compilation:- The compilation is the final step in creating a model. Once the compilation is done, we can move on to training phase.\n",
    "* Optimizer : - The optimizer we are using is adam. Adam is an optimization algorithm that can be used instead of the classical stochastic gradient descent procedure to update network weights iterative based in training data.\n",
    "* Loss - mean square error"
   ]
  },
  {
   "cell_type": "code",
   "execution_count": null,
   "metadata": {
    "execution": {
     "iopub.execute_input": "2020-10-07T20:56:02.521142Z",
     "iopub.status.busy": "2020-10-07T20:56:02.520202Z",
     "iopub.status.idle": "2020-10-07T20:56:02.813516Z",
     "shell.execute_reply": "2020-10-07T20:56:02.812803Z"
    },
    "papermill": {
     "duration": 0.36162,
     "end_time": "2020-10-07T20:56:02.813669",
     "exception": false,
     "start_time": "2020-10-07T20:56:02.452049",
     "status": "completed"
    },
    "tags": []
   },
   "outputs": [],
   "source": [
    "#Creating the neural network model\n",
    "import keras\n",
    "from keras.layers import Dense, Activation,Dropout\n",
    "from keras.models import Sequential\n",
    "\n",
    "model = Sequential()\n",
    "\n",
    "model.add(Dense(128,activation  = 'relu',input_dim =13))\n",
    "model.add(Dense(64,activation  = 'relu'))\n",
    "model.add(Dense(32,activation  = 'relu'))\n",
    "model.add(Dense(16,activation  = 'relu'))\n",
    "model.add(Dense(1))\n",
    "model.compile(optimizer = 'adam',loss = 'mean_squared_error')"
   ]
  },
  {
   "cell_type": "code",
   "execution_count": null,
   "metadata": {
    "execution": {
     "iopub.execute_input": "2020-10-07T20:56:02.934653Z",
     "iopub.status.busy": "2020-10-07T20:56:02.933663Z",
     "iopub.status.idle": "2020-10-07T20:56:07.137189Z",
     "shell.execute_reply": "2020-10-07T20:56:07.137910Z"
    },
    "papermill": {
     "duration": 4.268213,
     "end_time": "2020-10-07T20:56:07.138097",
     "exception": false,
     "start_time": "2020-10-07T20:56:02.869884",
     "status": "completed"
    },
    "tags": []
   },
   "outputs": [],
   "source": [
    "model.fit(X_train, y_train, epochs = 100)"
   ]
  },
  {
   "cell_type": "markdown",
   "metadata": {
    "papermill": {
     "duration": 0.144695,
     "end_time": "2020-10-07T20:56:07.429767",
     "exception": false,
     "start_time": "2020-10-07T20:56:07.285072",
     "status": "completed"
    },
    "tags": []
   },
   "source": [
    "<a id = 'eval'></a>\n",
    "### Evaluation of the model"
   ]
  },
  {
   "cell_type": "code",
   "execution_count": null,
   "metadata": {
    "execution": {
     "iopub.execute_input": "2020-10-07T20:56:07.725859Z",
     "iopub.status.busy": "2020-10-07T20:56:07.724391Z",
     "iopub.status.idle": "2020-10-07T20:56:07.944661Z",
     "shell.execute_reply": "2020-10-07T20:56:07.945236Z"
    },
    "papermill": {
     "duration": 0.370667,
     "end_time": "2020-10-07T20:56:07.945463",
     "exception": false,
     "start_time": "2020-10-07T20:56:07.574796",
     "status": "completed"
    },
    "tags": []
   },
   "outputs": [],
   "source": [
    "y_pred = model.predict(X_test)"
   ]
  },
  {
   "cell_type": "code",
   "execution_count": null,
   "metadata": {
    "execution": {
     "iopub.execute_input": "2020-10-07T20:56:08.252035Z",
     "iopub.status.busy": "2020-10-07T20:56:08.251041Z",
     "iopub.status.idle": "2020-10-07T20:56:08.255851Z",
     "shell.execute_reply": "2020-10-07T20:56:08.255145Z"
    },
    "papermill": {
     "duration": 0.159132,
     "end_time": "2020-10-07T20:56:08.255991",
     "exception": false,
     "start_time": "2020-10-07T20:56:08.096859",
     "status": "completed"
    },
    "tags": []
   },
   "outputs": [],
   "source": [
    "from sklearn.metrics import r2_score\n",
    "r2 = r2_score(y_test, y_pred)\n",
    "print(r2)"
   ]
  },
  {
   "cell_type": "code",
   "execution_count": null,
   "metadata": {
    "execution": {
     "iopub.execute_input": "2020-10-07T20:56:08.557357Z",
     "iopub.status.busy": "2020-10-07T20:56:08.556409Z",
     "iopub.status.idle": "2020-10-07T20:56:08.560011Z",
     "shell.execute_reply": "2020-10-07T20:56:08.560689Z"
    },
    "papermill": {
     "duration": 0.156747,
     "end_time": "2020-10-07T20:56:08.560855",
     "exception": false,
     "start_time": "2020-10-07T20:56:08.404108",
     "status": "completed"
    },
    "tags": []
   },
   "outputs": [],
   "source": [
    "# Predicting RMSE the Test set results\n",
    "from sklearn.metrics import mean_squared_error\n",
    "rmse = (np.sqrt(mean_squared_error(y_test, y_pred)))\n",
    "print(rmse)"
   ]
  },
  {
   "cell_type": "markdown",
   "metadata": {
    "papermill": {
     "duration": 0.145421,
     "end_time": "2020-10-07T20:56:08.851425",
     "exception": false,
     "start_time": "2020-10-07T20:56:08.706004",
     "status": "completed"
    },
    "tags": []
   },
   "source": [
    "<a id = 'conclude'></a>\n",
    "## Conclusion\n",
    "\n",
    "Using a simple neural network, we were able to improve the model significantly. I encourage you to try alterating the hyperparameters of the model and see if you can get better model"
   ]
  }
 ],
 "metadata": {
  "kernelspec": {
   "display_name": "Python 3",
   "language": "python",
   "name": "python3"
  },
  "language_info": {
   "codemirror_mode": {
    "name": "ipython",
    "version": 3
   },
   "file_extension": ".py",
   "mimetype": "text/x-python",
   "name": "python",
   "nbconvert_exporter": "python",
   "pygments_lexer": "ipython3",
   "version": "3.10.10"
  },
  "papermill": {
   "duration": 28.602522,
   "end_time": "2020-10-07T20:56:09.403032",
   "environment_variables": {},
   "exception": null,
   "input_path": "__notebook__.ipynb",
   "output_path": "__notebook__.ipynb",
   "parameters": {},
   "start_time": "2020-10-07T20:55:40.800510",
   "version": "2.1.0"
  }
 },
 "nbformat": 4,
 "nbformat_minor": 4
}
